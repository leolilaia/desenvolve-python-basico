{
 "cells": [
  {
   "cell_type": "markdown",
   "id": "0d5035b5",
   "metadata": {},
   "source": [
    "# Listas\n",
    "\n",
    "## Aulas 6.1 a 6.5 "
   ]
  },
  {
   "cell_type": "markdown",
   "id": "0bdece85",
   "metadata": {},
   "source": [
    "### Q1. \n",
    "\n",
    "Usando a função embutida ```map``` e criando uma função ```lambda```, transforme uma lista com os raios de múltiplas circunferências em uma nova lista com as respectivas áreas. O cálculo de cada área é dado por: ```pi*(raio**2)```\n",
    "- Use a constante pi da biblioteca math \n",
    "- Arredonde o resultado para 2 casas decimais\n"
   ]
  },
  {
   "cell_type": "code",
   "execution_count": 2,
   "id": "0a258eba",
   "metadata": {},
   "outputs": [
    {
     "name": "stdout",
     "output_type": "stream",
     "text": [
      "Raios:  [1.5, 0.8, 2.3, 5.0]\n",
      "Areas:  [7.07, 2.01, 16.62, 78.54]\n"
     ]
    }
   ],
   "source": [
    "## Complete a solução\n",
    "import math\n",
    "\n",
    "raios = [1.5, 0.8, 2.3, 5.0]\n",
    "\n",
    "areas = list(map(lambda r: round(math.pi * (r ** 2), 2), raios))\n",
    "\n",
    "print(\"Raios: \", raios)\n",
    "print(\"Areas: \", areas)\n",
    "## Complete a solução\n"
   ]
  },
  {
   "cell_type": "markdown",
   "id": "649a5082",
   "metadata": {},
   "source": [
    "### Q2. \n",
    "\n",
    "Crie uma função customizada e aplique a função embutida ```filter``` para operar em uma lista de listas contendo os lados de múltiplos triângulos. Construa uma nova lista contendo apenas os triângulos equiláteros, ou seja, com os três lados iguais.\n"
   ]
  },
  {
   "cell_type": "code",
   "execution_count": 3,
   "id": "47cb0573",
   "metadata": {},
   "outputs": [
    {
     "name": "stdout",
     "output_type": "stream",
     "text": [
      "Triângulos equiláteros: [[2, 2, 2], [4, 4, 4]]\n"
     ]
    }
   ],
   "source": [
    "## Crie a função customizada\n",
    "def testa_equilatero(lados):\n",
    "    return lados[0] == lados[1] == lados[2]\n",
    "\n",
    "### Usando filter, aplique a função customizada aos seguintes triangulos\n",
    "triangulos  = [[2,2,2], [3,4,5], [3,2,2],[4,4,4]]\n",
    "\n",
    "equilateros = list(filter(testa_equilatero, triangulos))\n",
    "\n",
    "#Resultado\n",
    "print(\"Triângulos equiláteros:\", equilateros)"
   ]
  },
  {
   "cell_type": "markdown",
   "id": "bb62d219",
   "metadata": {},
   "source": [
    "### Q3. \n",
    "Crie uma função chamada ```ordena_por_comprimento``` que aceite uma lista de strings e a ordene com base no comprimento das strings, do menor para o maior. Utilize a função ```sorte``` e uma expressão ```lambda```."
   ]
  },
  {
   "cell_type": "code",
   "execution_count": 5,
   "id": "add41556",
   "metadata": {},
   "outputs": [
    {
     "name": "stdout",
     "output_type": "stream",
     "text": [
      "['Sol', 'Joao', 'Jose', 'Luna', 'Enzo', 'Maria', 'Bento', 'Gabriela', 'Fernanda']\n"
     ]
    }
   ],
   "source": [
    "### crie a função ordena_por_comprimento e retorne a lista resultado\n",
    "def ordena_por_comprimento(lista):\n",
    "    return sorted(lista, key = lambda x: len(x))\n",
    "    \n",
    "### aplique sua função à seguinte lista e imprima o resultado\n",
    "nomes = [\"Joao\", \"Maria\", \"Jose\", \"Gabriela\", \"Sol\", \"Luna\", \"Bento\", \"Enzo\", \"Fernanda\"]\n",
    "resultado = ordena_por_comprimento(nomes)\n",
    "\n",
    "print(resultado)"
   ]
  },
  {
   "cell_type": "markdown",
   "id": "8710b1a7",
   "metadata": {},
   "source": [
    "### Q4.\n",
    "\n",
    "Crie uma lista de listas (uma matriz de 2 dimensões) de tamanho $n \\times n$, com $n$ dado pelo usuário. Cada elemento da matriz deve ser o produto dos índices da linha pela coluna.\n",
    "\n",
    "Exemplo:\n",
    "```\n",
    "Digite n: 4\n",
    "Matriz:\n",
    "[[0, 0, 0, 0],\n",
    " [0, 1, 2, 3],\n",
    " [0, 2, 4, 6],\n",
    " [0, 3, 6, 9]]\n",
    "```"
   ]
  },
  {
   "cell_type": "code",
   "execution_count": 9,
   "id": "0b7ee921",
   "metadata": {},
   "outputs": [
    {
     "name": "stdin",
     "output_type": "stream",
     "text": [
      "Digite n:  5\n"
     ]
    },
    {
     "name": "stdout",
     "output_type": "stream",
     "text": [
      "Matriz:\n",
      "[[0, 0, 0, 0, 0], [0, 1, 2, 3, 4], [0, 2, 4, 6, 8], [0, 3, 6, 9, 12], [0, 4, 8, 12, 16]]\n"
     ]
    }
   ],
   "source": [
    "# Implemente sua solução aqui\n",
    "# Leitura do tamanho da matriz\n",
    "n = int(input(\"Digite n: \"))\n",
    "\n",
    "# Criação da matriz\n",
    "matriz = [[i * j for j in range(n)] for i in range(n)]\n",
    "\n",
    "# Exibição da matriz\n",
    "print(\"Matriz:\")\n",
    "print(matriz)\n"
   ]
  },
  {
   "cell_type": "markdown",
   "id": "f41781df",
   "metadata": {},
   "source": [
    "### Q5.\n",
    "\n",
    "Dada uma lista de números inteiros, implemente uma função em Python chamada ```pares_unicos``` que encontre e retorne todos os pares únicos de elementos na lista cuja soma seja igual a um determinado valor. Considere que a ordem dos pares não é relevante."
   ]
  },
  {
   "cell_type": "code",
   "execution_count": 15,
   "id": "7a76f765",
   "metadata": {},
   "outputs": [
    {
     "name": "stdout",
     "output_type": "stream",
     "text": [
      "[(3, 7), (4, 6)]\n"
     ]
    }
   ],
   "source": [
    "def pares_unicos(numeros, soma_objetivo):\n",
    "    pares = set()\n",
    "    \n",
    "    # Implemente sua solução aqui\n",
    "    for i in range(len(numeros)):\n",
    "        for j in range(i + 1, len(numeros)):  # Evita repetir e inverter pares\n",
    "            if numeros[i] + numeros[j] == soma_objetivo:\n",
    "                # Ordena o par para evitar (7,3) e (3,7) serem diferentes\n",
    "                pares.add(tuple(sorted((numeros[i], numeros[j]))))\n",
    "\n",
    "    # Retorna os pares como lista de tuplas\n",
    "    return list(pares)\n",
    "\n",
    "\n",
    "# Exemplo de uso:\n",
    "nums = [3, 4, 5, 6, 7]\n",
    "soma = 10\n",
    "resultado = pares_unicos(nums, soma)\n",
    "print(resultado) # Saída esperada: [(3, 7), (4, 6)]"
   ]
  },
  {
   "cell_type": "markdown",
   "id": "87e44893",
   "metadata": {},
   "source": [
    "### Q5.\n",
    "\n",
    "Escreva um programa para encontrar a diferença entre duas listas, incluindo elementos duplicados.\n",
    "\n",
    "Ex:\n",
    "```\n",
    "Listas originais: \n",
    "[1, 1, 2, 3, 3, 4, 4, 5, 6, 7]\n",
    "[1, 1, 2, 4, 5, 6]\n",
    "Diferença entre as listas:\n",
    "[3, 3, 4, 7]\n",
    "```"
   ]
  },
  {
   "cell_type": "code",
   "execution_count": 16,
   "id": "7edc027c",
   "metadata": {},
   "outputs": [
    {
     "name": "stdout",
     "output_type": "stream",
     "text": [
      "Diferença entre as listas:\n",
      "[3, 3, 4, 7]\n"
     ]
    }
   ],
   "source": [
    "# Implemente sua solução aqui\n",
    "# Listas originais\n",
    "lista1 = [1, 1, 2, 3, 3, 4, 4, 5, 6, 7]\n",
    "lista2 = [1, 1, 2, 4, 5, 6]\n",
    "\n",
    "# Cria uma cópia da segunda lista para não alterá-la\n",
    "lista_temp = lista2.copy()\n",
    "\n",
    "# Lista para armazenar a diferença\n",
    "diferenca = []\n",
    "\n",
    "# Percorre cada elemento da primeira lista\n",
    "for elemento in lista1:\n",
    "    # Se o elemento também estiver na segunda lista, remove uma ocorrência\n",
    "    if elemento in lista_temp:\n",
    "        lista_temp.remove(elemento)\n",
    "    else:\n",
    "        # Caso contrário, adiciona à lista de diferença\n",
    "        diferenca.append(elemento)\n",
    "\n",
    "print(\"Diferença entre as listas:\")\n",
    "print(diferenca)\n"
   ]
  },
  {
   "cell_type": "markdown",
   "id": "f4c4236d",
   "metadata": {},
   "source": [
    "### Q6.\n",
    "\n",
    "Dada uma lista aleatória, escreva um programa que separa os valores em listas menores de acordo com o tamanho solicitado. Caso não seja possível repartir igualmente a lista original, a última sublista deve conter os elementos remanescentes, como indicado no exemplo a seguir.\n",
    "\n",
    "Note que seu programa deve continuar executando em um laço infinito até que o usuário informe o tamanho 0 na entrada solicitada.\n",
    "\n",
    "```\n",
    "Lista original:\n",
    "[12, 45, 23, 67, 78, 90, 45, 32, 100, 76, 38, 62, 73, 29, 83]\n",
    "\n",
    "Tamanho para divisão: 3\n",
    "Subslistas:\n",
    "[[12, 45, 23], [67, 78, 90], [45, 32, 100], [76, 38, 62], [73, 29, 83]]\n",
    "\n",
    "Tamanho para divisão: 4\n",
    "Subslistas: [[12, 45, 23, 67], [78, 90, 45, 32], [100, 76, 38, 62], [73, 29, 83]]\n",
    "\n",
    "Tamanho para divisão: 0\n",
    "```"
   ]
  },
  {
   "cell_type": "code",
   "execution_count": 19,
   "id": "792563de",
   "metadata": {},
   "outputs": [
    {
     "name": "stdout",
     "output_type": "stream",
     "text": [
      "Divisor de Listas Aleatórias\n",
      "Lista original gerada: [10, 26, 56, 46, 59, 82, 87, 28, 19, 58, 60, 88, 16, 71, 93, 23, 32, 91, 14, 15]\n",
      "Tamanho da lista: 20\n"
     ]
    },
    {
     "name": "stdin",
     "output_type": "stream",
     "text": [
      "Tamanho para divisão (ou 0 para sair):  0\n"
     ]
    },
    {
     "name": "stdout",
     "output_type": "stream",
     "text": [
      "Saindo do programa...\n"
     ]
    }
   ],
   "source": [
    "import random\n",
    "lista = [random.randint(1,100) for i in range(20)]\n",
    "\n",
    "# Implemente sua solução aqui\n",
    "import random\n",
    "\n",
    "def dividir_lista(lista_original, tamanho):\n",
    "    #Divide a lista original em sublistas do tamanho especificado.\n",
    "    sublistas = []\n",
    "    for i in range(0, len(lista_original), tamanho):\n",
    "        sublistas.append(lista_original[i:i + tamanho])\n",
    "    return sublistas\n",
    "\n",
    "# Geração da lista aleatória\n",
    "lista_original = [random.randint(1, 100) for i in range(20)]\n",
    "\n",
    "# Implemente sua solução aqui\n",
    "print(\"Divisor de Listas Aleatórias\")\n",
    "print(f\"Lista original gerada: {lista_original}\")\n",
    "print(f\"Tamanho da lista: {len(lista_original)}\")\n",
    "\n",
    "# Loop infinito que continua até que o usuário digite 0\n",
    "while True:\n",
    "        # Solicita o tamanho\n",
    "        entrada = input(\"Tamanho para divisão (ou 0 para sair): \")\n",
    "        tamanho = int(entrada)\n",
    "        \n",
    "        # Condição de saída\n",
    "        if tamanho == 0:\n",
    "            print(\"Saindo do programa...\")\n",
    "            break\n",
    "        \n",
    "        # Validação\n",
    "        if tamanho < 1:\n",
    "            print(\"O tamanho deve ser um número inteiro positivo (maior que 0).\")\n",
    "            continue\n",
    "            \n",
    "        if tamanho > len(lista_original):\n",
    "            print(f\"O tamanho ({tamanho}) é maior que o tamanho da lista ({len(lista_original)}).\")\n",
    "            continue\n",
    "\n",
    "        # Chama a função e exibe o resultado\n",
    "        subslistas = dividir_lista(lista_original, tamanho)\n",
    "        \n",
    "        print(f\"\\nTamanho para divisão: {tamanho}\")\n",
    "        print(f\"Subslistas geradas: {subslistas}\\n\")"
   ]
  },
  {
   "cell_type": "markdown",
   "id": "816e7012-be94-436b-868d-ab04b916e5c7",
   "metadata": {},
   "source": [
    "### Q7.\n",
    "\n",
    "Você está desenvolvendo um programa para determinar o vencedor de um jogo da velha. Escreva uma função ```avalia_tabuleiro()``` que recebe uma lista representando o estado atual do tabuleiro e determina se há um vencedor. \n",
    "\n",
    "A lista terá 3 sublistas, cada uma representando uma linha do tabuleiro. Cada elemento das sublistas pode ser 'X', 'O' ou vazio (' ').\n",
    "\n",
    "O programa deve imprimir o vencedor ('X', 'O'), se houver um, ou \"Empate\" se não houver vencedor. Um vencedor é determinado se houver três 'X' ou três 'O' em linha (horizontal, vertical ou diagonal).\n",
    "\n",
    "Exemplo:\n",
    "```python\n",
    "tabuleiro = [\n",
    "    ['X', 'O', 'X'],\n",
    "    [' ', 'X', 'O'],\n",
    "    ['O', ' ', 'O']\n",
    "]\n",
    "```\n",
    "O resultado seria \"Empate\", pois não há um vencedor no exemplo fornecido. \n",
    "\n",
    "Exemplo 2:\n",
    "```python\n",
    "tabuleiro = [\n",
    "    ['O', 'X', 'O'],\n",
    "    ['X', 'O', 'X'],\n",
    "    ['X', ' ', 'O']\n",
    "]\n",
    "```\n",
    "O resultado seria \"O\", pois 'O' venceu na diagonal central."
   ]
  },
  {
   "cell_type": "code",
   "execution_count": 25,
   "id": "edcc9266-06cc-4aa5-9f30-c539d8c119a8",
   "metadata": {},
   "outputs": [
    {
     "name": "stdout",
     "output_type": "stream",
     "text": [
      "--- Resultados da Avaliação ---\n",
      "Tabuleiro 1 (X na diagonal): Resultado -> X\n",
      "Tabuleiro 2 (X na coluna): Resultado -> X\n",
      "Tabuleiro 3 (Vazio): Resultado -> Em Andamento\n",
      "Tabuleiro 4 (O na linha): Resultado -> O\n",
      "Tabuleiro 5 (Quase Cheio): Resultado -> Em Andamento\n"
     ]
    }
   ],
   "source": [
    "### Escreva a função avalia_tabuleiro()\n",
    "def avalia_tabuleiro(tabuleiro):\n",
    "    def verifica_vencedor(jogador):\n",
    "        #Checa Linhas (Horizontal)\n",
    "        for linha in tabuleiro:\n",
    "            if all(cell == jogador for cell in linha):\n",
    "                return True\n",
    "        #Checa Colunas (Vertical)\n",
    "        for c in range(3): # c é o índice da coluna (0, 1, 2)\n",
    "            if all(tabuleiro[l][c] == jogador for l in range(3)):\n",
    "                return True\n",
    "        #Checa Diagonais\n",
    "        if all(tabuleiro[i][i] == jogador for i in range(3)):\n",
    "            return True\n",
    "        if all(tabuleiro[i][2 - i] == jogador for i in range(3)):\n",
    "            return True\n",
    "            \n",
    "        return False\n",
    "         \n",
    "    #Verifica se 'X' ou 'O' venceu\n",
    "    if verifica_vencedor('X'):\n",
    "        return 'X'\n",
    "    \n",
    "    if verifica_vencedor('O'):\n",
    "        return 'O'\n",
    "\n",
    "    #Verifica se o tabuleiro está completamente cheio (para declarar 'Empate')\n",
    "    tabuleiro_cheio = all(' ' not in linha for linha in tabuleiro)\n",
    "    \n",
    "    if tabuleiro_cheio:\n",
    "        return 'Empate'\n",
    "    else:\n",
    "        return 'Em Andamento' \n",
    "        \n",
    "### teste a função nos seguintes tabuleiros\n",
    "\n",
    "tabuleiro1 = [\n",
    "    ['X', 'O', 'X'],\n",
    "    [' ', 'X', 'O'],\n",
    "    ['O', ' ', 'X']\n",
    "]\n",
    "\n",
    "tabuleiro2 = [\n",
    "    ['X', 'O', 'O'],\n",
    "    ['X', 'X', 'O'],\n",
    "    ['X', 'O', 'X']\n",
    "]\n",
    "\n",
    "tabuleiro3 = [\n",
    "    [' ', ' ', ' '],\n",
    "    ['X', ' ', 'O'],\n",
    "    ['O', 'X', 'X']\n",
    "]\n",
    "\n",
    "tabuleiro4 = [\n",
    "    ['O', 'O', 'O'],\n",
    "    ['X', ' ', 'X'],\n",
    "    ['O', 'X', 'X']\n",
    "]\n",
    "\n",
    "tabuleiro5 = [\n",
    "    ['X', 'X', 'O'],\n",
    "    ['X', ' ', 'O'],\n",
    "    ['O', 'O', 'X']\n",
    "]\n",
    "\n",
    "#Resultado\n",
    "print(\"--- Resultados da Avaliação ---\")\n",
    "print(f\"Tabuleiro 1 (X na diagonal): Resultado -> {avalia_tabuleiro(tabuleiro1)}\")\n",
    "print(f\"Tabuleiro 2 (X na coluna): Resultado -> {avalia_tabuleiro(tabuleiro2)}\")\n",
    "print(f\"Tabuleiro 3 (Vazio): Resultado -> {avalia_tabuleiro(tabuleiro3)}\")\n",
    "print(f\"Tabuleiro 4 (O na linha): Resultado -> {avalia_tabuleiro(tabuleiro4)}\")\n",
    "print(f\"Tabuleiro 5 (Quase Cheio): Resultado -> {avalia_tabuleiro(tabuleiro5)}\")"
   ]
  },
  {
   "cell_type": "code",
   "execution_count": null,
   "id": "0f19250c-5d53-4aa6-9b42-a8fabc2d6abd",
   "metadata": {},
   "outputs": [],
   "source": []
  }
 ],
 "metadata": {
  "kernelspec": {
   "display_name": "Python 3 (ipykernel)",
   "language": "python",
   "name": "python3"
  },
  "language_info": {
   "codemirror_mode": {
    "name": "ipython",
    "version": 3
   },
   "file_extension": ".py",
   "mimetype": "text/x-python",
   "name": "python",
   "nbconvert_exporter": "python",
   "pygments_lexer": "ipython3",
   "version": "3.13.7"
  }
 },
 "nbformat": 4,
 "nbformat_minor": 5
}
